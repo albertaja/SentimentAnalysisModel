{
 "cells": [
  {
   "cell_type": "markdown",
   "metadata": {},
   "source": [
    "# LSTM + Transformer Hybrid Model for Indonesian Sentiment Analysis\n",
    "\n",
    "This notebook implements a state-of-the-art deep learning model combining LSTM and Transformer architectures for sentiment analysis on Indonesian text reviews.\n",
    "\n",
    "## Objectives\n",
    "- Load preprocessed Indonesian text data\n",
    "- Build LSTM + Transformer hybrid architecture\n",
    "- Train model with comprehensive evaluation\n",
    "- Generate detailed metrics and visualizations\n",
    "\n",
    "## Dataset: Ulasan My XL 1000 Data Labelled\n",
    "- **Size**: 1000 Indonesian reviews\n",
    "- **Classes**: 3 (Negative: -1, Neutral: 0, Positive: 1)\n",
    "- **Split**: 70% train, 15% validation, 15% test\n",
    "- **Preprocessing**: Text cleaning, stemming, tokenization"
   ]
  },
  {
   "cell_type": "markdown",
   "metadata": {},
   "source": [
    "## 1. Setup and Imports"
   ]
  },
  {
   "cell_type": "code",
   "execution_count": null,
   "metadata": {},
   "outputs": [],
   "source": [
    "# Run this cell to execute the complete training pipeline\n",
    "import os\n",
    "os.chdir('/Users/albertrafael/PycharmProjects/SentimentAnalysisModel')\n",
    "\n",
    "# Execute the training script\n",
    "exec(open('src/train_model.py').read())"
   ]
  },
  {
   "cell_type": "markdown",
   "metadata": {},
   "source": [
    "## 2. Model Architecture\n",
    "\n",
    "The hybrid model combines:\n",
    "- **Embedding Layer**: 128-dimensional word embeddings\n",
    "- **Bidirectional LSTM**: Captures sequential patterns\n",
    "- **Transformer Block**: Multi-head attention for long-range dependencies\n",
    "- **Dense Layers**: Final classification with dropout regularization"
   ]
  },
  {
   "cell_type": "markdown",
   "metadata": {},
   "source": [
    "## 3. Training Results\n",
    "\n",
    "After running the training script above, check the `results/` directory for:\n",
    "- Training curves visualization\n",
    "- Confusion matrices\n",
    "- Classification reports\n",
    "- Sample predictions analysis\n",
    "\n",
    "The trained model will be saved to `models/` directory."
   ]
  },
  {
   "cell_type": "markdown",
   "metadata": {},
   "source": [
    "## 4. Quick Results Preview\n",
    "\n",
    "You can also run individual sections by copying code from `src/train_model.py` into separate cells for interactive development."
   ]
  }
 ],
 "metadata": {
  "kernelspec": {
   "display_name": "Python 3",
   "language": "python",
   "name": "python3"
  },
  "language_info": {
   "codemirror_mode": {
    "name": "ipython",
    "version": 3
   },
   "file_extension": ".py",
   "mimetype": "text/x-python",
   "name": "python",
   "nbconvert_exporter": "python",
   "pygments_lexer": "ipython3",
   "version": "3.9.0"
  }
 },
 "nbformat": 4,
 "nbformat_minor": 4
}